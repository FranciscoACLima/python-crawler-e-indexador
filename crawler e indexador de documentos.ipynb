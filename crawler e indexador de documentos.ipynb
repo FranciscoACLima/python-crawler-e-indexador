{
 "cells": [
  {
   "cell_type": "markdown",
   "metadata": {},
   "source": [
    "![Inteligência Artificial: Buscas em Textos com Python](http://iaexpert.com.br/wp-content/uploads/2018/01/300x141-LOGO-CURSO-SITE.png)\n",
    "# Crawler e indexador de documentos\n",
    "Estudo baseado nas aulas do curso: [Inteligência Artificial: Buscas em Textos com Python](https://www.udemy.com/inteligencia-artificial-buscas-em-textos-com-python/?couponCode=BTPSITE1) do professor Jones Granatyr na [IAExpert](http://iaexpert.com.br/).\n",
    "\n",
    "Outros cursos da IAExpert: [IAExpert/cursos](http://iaexpert.com.br/index.php/cursos/)"
   ]
  },
  {
   "cell_type": "code",
   "execution_count": 1,
   "metadata": {},
   "outputs": [],
   "source": [
    "# imports realizados a partir de pip install -r requeriments.txt\n",
    "# nltk_data carregado com nltk.download('all')\n",
    "import urllib3\n",
    "from bs4 import BeautifulSoup\n",
    "from urllib.parse import urljoin\n",
    "import re\n",
    "import nltk\n",
    "import pymysql"
   ]
  },
  {
   "cell_type": "markdown",
   "metadata": {},
   "source": [
    "## Conexão com o banco de dados\n",
    "Sql com as tabelas utilizadas no banco de dados de teste: [tabelas.sql](tabelas.sql)"
   ]
  },
  {
   "cell_type": "code",
   "execution_count": 2,
   "metadata": {},
   "outputs": [],
   "source": [
    "DB = 'crawler'\n",
    "def conecta_db():\n",
    "    try:\n",
    "        conexao = pymysql.connect(\n",
    "            host='localhost',\n",
    "            user='root',\n",
    "            passwd='senhaDoMySql',\n",
    "            db=DB,\n",
    "            autocommit = True,\n",
    "            use_unicode = True, \n",
    "            charset = 'utf8mb4')\n",
    "        return conexao\n",
    "    except Exception as e:\n",
    "        print('Erro ao conectar no Banco de Dados', e)\n",
    "        return False\n",
    "\n",
    "conexao = conecta_db()"
   ]
  },
  {
   "cell_type": "code",
   "execution_count": 3,
   "metadata": {},
   "outputs": [
    {
     "data": {
      "text/plain": [
       "True"
      ]
     },
     "execution_count": 3,
     "metadata": {},
     "output_type": "execute_result"
    }
   ],
   "source": [
    "conexao.open"
   ]
  },
  {
   "cell_type": "code",
   "execution_count": 4,
   "metadata": {},
   "outputs": [],
   "source": [
    "conexao.close()"
   ]
  },
  {
   "cell_type": "code",
   "execution_count": 5,
   "metadata": {},
   "outputs": [
    {
     "data": {
      "text/plain": [
       "False"
      ]
     },
     "execution_count": 5,
     "metadata": {},
     "output_type": "execute_result"
    }
   ],
   "source": [
    "conexao.open"
   ]
  },
  {
   "cell_type": "markdown",
   "metadata": {},
   "source": [
    "## insere_registro()\n",
    "Função \"genérica\" para inserir um novo registro numa tabela do banco de dados. Retorna o id do registro inserido"
   ]
  },
  {
   "cell_type": "code",
   "execution_count": 6,
   "metadata": {},
   "outputs": [],
   "source": [
    "def insere_registro(tabela, colunas, valores):\n",
    "    conexao = conecta_db()\n",
    "    cursor = conexao.cursor()\n",
    "    if isinstance(valores, str):\n",
    "        valores = [valores]\n",
    "    values = ''\n",
    "    for valor in valores:\n",
    "        values += ', \\'' + str(valor) + '\\''\n",
    "    values = values.strip(', ')\n",
    "    sql = 'insert into {} ({}) values({})'.format(tabela, colunas, values)\n",
    "    try:\n",
    "        cursor.execute(sql)\n",
    "        ultimo = cursor.lastrowid\n",
    "        cursor.close()\n",
    "        conexao.close()\n",
    "        return ultimo\n",
    "    except Exception as e:\n",
    "        print('Erro ao gravar o registro', e)\n",
    "        return False\n",
    "    "
   ]
  },
  {
   "cell_type": "code",
   "execution_count": 7,
   "metadata": {},
   "outputs": [
    {
     "data": {
      "text/plain": [
       "1"
      ]
     },
     "execution_count": 7,
     "metadata": {},
     "output_type": "execute_result"
    }
   ],
   "source": [
    "# teste que insere a palavra mundo na tabela palavras\n",
    "insere_registro('palavras', 'palavra' ,'mundo')"
   ]
  },
  {
   "cell_type": "code",
   "execution_count": 8,
   "metadata": {},
   "outputs": [
    {
     "name": "stdout",
     "output_type": "stream",
     "text": [
      "Erro ao gravar o registro (1146, \"Table 'crawler.palavrax' doesn't exist\")\n"
     ]
    },
    {
     "data": {
      "text/plain": [
       "False"
      ]
     },
     "execution_count": 8,
     "metadata": {},
     "output_type": "execute_result"
    }
   ],
   "source": [
    "# teste com erro, tabela não existe\n",
    "insere_registro('palavrax', 'palavra' ,'mundo')"
   ]
  },
  {
   "cell_type": "markdown",
   "metadata": {},
   "source": [
    "## Funções para inserção de registros\n",
    "Utilizam `insere_registro()` para gravar no Banco de dados"
   ]
  },
  {
   "cell_type": "code",
   "execution_count": 9,
   "metadata": {},
   "outputs": [],
   "source": [
    "# Função para inserir uma nova palavra na tabela palavras, retornando seu id\n",
    "def inserePalavra(palavra):\n",
    "    tabela = 'palavras'\n",
    "    coluna = 'palavra'\n",
    "    return insere_registro(tabela, coluna, palavra)"
   ]
  },
  {
   "cell_type": "code",
   "execution_count": 10,
   "metadata": {},
   "outputs": [
    {
     "data": {
      "text/plain": [
       "2"
      ]
     },
     "execution_count": 10,
     "metadata": {},
     "output_type": "execute_result"
    }
   ],
   "source": [
    "inserePalavra('olá')"
   ]
  },
  {
   "cell_type": "code",
   "execution_count": 11,
   "metadata": {},
   "outputs": [
    {
     "data": {
      "text/plain": [
       "3"
      ]
     },
     "execution_count": 11,
     "metadata": {},
     "output_type": "execute_result"
    }
   ],
   "source": [
    "inserePalavra('teste')"
   ]
  },
  {
   "cell_type": "code",
   "execution_count": 12,
   "metadata": {},
   "outputs": [],
   "source": [
    "# Função para inserir uma nova url na tabela urls, retornando seu id\n",
    "def inserePagina(url):\n",
    "    tabela = 'urls'\n",
    "    coluna = 'url'\n",
    "    cursor = conexao.cursor()\n",
    "    return insere_registro(tabela, coluna, url)"
   ]
  },
  {
   "cell_type": "code",
   "execution_count": 13,
   "metadata": {},
   "outputs": [
    {
     "data": {
      "text/plain": [
       "1"
      ]
     },
     "execution_count": 13,
     "metadata": {},
     "output_type": "execute_result"
    }
   ],
   "source": [
    "inserePagina('teste2.com.br')"
   ]
  },
  {
   "cell_type": "code",
   "execution_count": 14,
   "metadata": {},
   "outputs": [
    {
     "data": {
      "text/plain": [
       "2"
      ]
     },
     "execution_count": 14,
     "metadata": {},
     "output_type": "execute_result"
    }
   ],
   "source": [
    "inserePagina('teste5.com')"
   ]
  },
  {
   "cell_type": "code",
   "execution_count": 15,
   "metadata": {},
   "outputs": [
    {
     "data": {
      "text/plain": [
       "3"
      ]
     },
     "execution_count": 15,
     "metadata": {},
     "output_type": "execute_result"
    }
   ],
   "source": [
    "inserePagina('maisumapagina.com')"
   ]
  },
  {
   "cell_type": "code",
   "execution_count": 16,
   "metadata": {},
   "outputs": [],
   "source": [
    "# Função para gravar a localização de uma palavra em uma url\n",
    "def inserePalavraLocalizacao(idurl, idpalavra, localizacao):\n",
    "    tabela = 'palavra_localizacao'\n",
    "    colunas = 'idurl, idpalavra, localizacao'\n",
    "    values = [idurl, idpalavra, localizacao]\n",
    "    return insere_registro(tabela, colunas, values)"
   ]
  },
  {
   "cell_type": "code",
   "execution_count": 17,
   "metadata": {},
   "outputs": [
    {
     "data": {
      "text/plain": [
       "1"
      ]
     },
     "execution_count": 17,
     "metadata": {},
     "output_type": "execute_result"
    }
   ],
   "source": [
    "inserePalavraLocalizacao('1', '2', '10')"
   ]
  },
  {
   "cell_type": "code",
   "execution_count": 18,
   "metadata": {},
   "outputs": [
    {
     "data": {
      "text/plain": [
       "2"
      ]
     },
     "execution_count": 18,
     "metadata": {},
     "output_type": "execute_result"
    }
   ],
   "source": [
    "inserePalavraLocalizacao(2, 1, 40)"
   ]
  },
  {
   "cell_type": "code",
   "execution_count": 19,
   "metadata": {},
   "outputs": [],
   "source": [
    "# Função para gravar a ligação entre duas urls para uso no PageRank\n",
    "def insertUrlLigacao(idurl_origem, idurl_destino):\n",
    "    tabela = 'url_ligacao'\n",
    "    colunas = 'idurl_origem, idurl_destino'\n",
    "    values = [idurl_origem, idurl_destino]\n",
    "    return insere_registro(tabela, colunas, values)"
   ]
  },
  {
   "cell_type": "code",
   "execution_count": 20,
   "metadata": {},
   "outputs": [
    {
     "data": {
      "text/plain": [
       "1"
      ]
     },
     "execution_count": 20,
     "metadata": {},
     "output_type": "execute_result"
    }
   ],
   "source": [
    "insertUrlLigacao('1', '3')"
   ]
  },
  {
   "cell_type": "code",
   "execution_count": 21,
   "metadata": {},
   "outputs": [
    {
     "data": {
      "text/plain": [
       "2"
      ]
     },
     "execution_count": 21,
     "metadata": {},
     "output_type": "execute_result"
    }
   ],
   "source": [
    "insertUrlLigacao(2, 3)"
   ]
  },
  {
   "cell_type": "code",
   "execution_count": 22,
   "metadata": {},
   "outputs": [],
   "source": [
    "# Função para gravar a ligação entre uma palavra e o texto do link\n",
    "def insertUrlPalavra(idpalavra, idurl_ligacao):\n",
    "    tabela = 'url_palavra'\n",
    "    colunas = 'idpalavra, idurl_ligacao'\n",
    "    values = [idpalavra, idurl_ligacao]\n",
    "    return insere_registro(tabela, colunas, values)"
   ]
  },
  {
   "cell_type": "code",
   "execution_count": 23,
   "metadata": {},
   "outputs": [
    {
     "data": {
      "text/plain": [
       "1"
      ]
     },
     "execution_count": 23,
     "metadata": {},
     "output_type": "execute_result"
    }
   ],
   "source": [
    "insertUrlPalavra(3, 1)"
   ]
  },
  {
   "cell_type": "markdown",
   "metadata": {},
   "source": [
    "## procura_registro()\n",
    "Função \"genérica\" para busca de um registro em uma tabela do Banco de Dados."
   ]
  },
  {
   "cell_type": "code",
   "execution_count": 24,
   "metadata": {},
   "outputs": [],
   "source": [
    "def procura_registro(tabela, campos, condicao):\n",
    "    retorno = []\n",
    "    conexao = conecta_db()\n",
    "    cursor = conexao.cursor()\n",
    "    sql = 'select {} from {} where {}'.format(campos, tabela, condicao)\n",
    "    try:\n",
    "        cursor.execute(sql)\n",
    "        if cursor.rowcount > 0:\n",
    "            retorno = cursor.fetchone()\n",
    "        cursor.close()\n",
    "        conexao.close()\n",
    "        return retorno\n",
    "    except Exception as e:\n",
    "        print('Erro na busca do registro', e)\n",
    "        return False\n",
    "        "
   ]
  },
  {
   "cell_type": "code",
   "execution_count": 25,
   "metadata": {},
   "outputs": [
    {
     "data": {
      "text/plain": [
       "(2,)"
      ]
     },
     "execution_count": 25,
     "metadata": {},
     "output_type": "execute_result"
    }
   ],
   "source": [
    "procura_registro('palavras', 'idpalavra', \"palavra = 'olá'\")"
   ]
  },
  {
   "cell_type": "code",
   "execution_count": 26,
   "metadata": {},
   "outputs": [
    {
     "data": {
      "text/plain": [
       "(2, 'olá')"
      ]
     },
     "execution_count": 26,
     "metadata": {},
     "output_type": "execute_result"
    }
   ],
   "source": [
    "procura_registro('palavras', '*', \"palavra = 'olá'\")"
   ]
  },
  {
   "cell_type": "code",
   "execution_count": 27,
   "metadata": {},
   "outputs": [
    {
     "name": "stdout",
     "output_type": "stream",
     "text": [
      "Erro na busca do registro (1146, \"Table 'crawler.palavrax' doesn't exist\")\n"
     ]
    },
    {
     "data": {
      "text/plain": [
       "False"
      ]
     },
     "execution_count": 27,
     "metadata": {},
     "output_type": "execute_result"
    }
   ],
   "source": [
    "# busca com erro no nome da tabela\n",
    "procura_registro('palavrax', '*', \"palavra = 'olá'\")"
   ]
  },
  {
   "cell_type": "code",
   "execution_count": 28,
   "metadata": {},
   "outputs": [
    {
     "name": "stdout",
     "output_type": "stream",
     "text": [
      "Erro na busca do registro (1054, \"Unknown column 'olá' in 'where clause'\")\n"
     ]
    },
    {
     "data": {
      "text/plain": [
       "False"
      ]
     },
     "execution_count": 28,
     "metadata": {},
     "output_type": "execute_result"
    }
   ],
   "source": [
    "# busca com erro na condição\n",
    "procura_registro('palavras', '*', \"palavra = olá\")"
   ]
  },
  {
   "cell_type": "markdown",
   "metadata": {},
   "source": [
    "## Funções para busca de registros\n",
    "Utilizam `procura_registro()` para fazer a busca"
   ]
  },
  {
   "cell_type": "code",
   "execution_count": 29,
   "metadata": {},
   "outputs": [
    {
     "data": {
      "text/plain": [
       "2"
      ]
     },
     "execution_count": 29,
     "metadata": {},
     "output_type": "execute_result"
    }
   ],
   "source": [
    "# retorna o Id da url\n",
    "def getIdUrl(url):\n",
    "    idurl = -1\n",
    "    tabela = 'urls'\n",
    "    campo = 'idurl'\n",
    "    condicao = \"url = '{}'\".format(url)\n",
    "    result = procura_registro(tabela, campo, condicao)\n",
    "    if result:\n",
    "        idurl = result[0]\n",
    "    return idurl\n",
    "\n",
    "getIdUrl('teste5.com')"
   ]
  },
  {
   "cell_type": "code",
   "execution_count": 30,
   "metadata": {},
   "outputs": [
    {
     "data": {
      "text/plain": [
       "-1"
      ]
     },
     "execution_count": 30,
     "metadata": {},
     "output_type": "execute_result"
    }
   ],
   "source": [
    "getIdUrl('xxxxx.com')"
   ]
  },
  {
   "cell_type": "code",
   "execution_count": 31,
   "metadata": {},
   "outputs": [],
   "source": [
    "# retorna o id da ligacação entre duas urls, origem e destino\n",
    "def getIdUrlLigacao(idurl_origem, idurl_destino):\n",
    "    idurl_ligacao = -1\n",
    "    tabela = 'url_ligacao'\n",
    "    campo = 'idurl_ligacao'\n",
    "    condicao = \"idurl_origem = '{}' and idurl_destino = '{}'\".format(idurl_origem, idurl_destino)\n",
    "    result = procura_registro(tabela, campo, condicao)\n",
    "    if result:\n",
    "        idurl_ligacao = result[0]\n",
    "    return idurl_ligacao"
   ]
  },
  {
   "cell_type": "code",
   "execution_count": 32,
   "metadata": {},
   "outputs": [
    {
     "data": {
      "text/plain": [
       "2"
      ]
     },
     "execution_count": 32,
     "metadata": {},
     "output_type": "execute_result"
    }
   ],
   "source": [
    "getIdUrlLigacao('2', '3')"
   ]
  },
  {
   "cell_type": "code",
   "execution_count": 33,
   "metadata": {},
   "outputs": [
    {
     "data": {
      "text/plain": [
       "2"
      ]
     },
     "execution_count": 33,
     "metadata": {},
     "output_type": "execute_result"
    }
   ],
   "source": [
    "getIdUrlLigacao(2, 3)"
   ]
  },
  {
   "cell_type": "code",
   "execution_count": 34,
   "metadata": {},
   "outputs": [],
   "source": [
    "# verifica se a palavra já existe na tabela palavras\n",
    "def palavraIndexada(palavra):\n",
    "    idPalavra = -1 # não existe a palavra no índice\n",
    "    tabela = 'palavras'\n",
    "    campo = 'idpalavra'\n",
    "    condicao = \"palavra = '{}'\".format(palavra)\n",
    "    result = procura_registro(tabela, campo, condicao)\n",
    "    if result:\n",
    "        idPalavra = result[0]\n",
    "    return idPalavra"
   ]
  },
  {
   "cell_type": "code",
   "execution_count": 35,
   "metadata": {},
   "outputs": [
    {
     "data": {
      "text/plain": [
       "2"
      ]
     },
     "execution_count": 35,
     "metadata": {},
     "output_type": "execute_result"
    }
   ],
   "source": [
    "palavraIndexada('olá')"
   ]
  },
  {
   "cell_type": "code",
   "execution_count": 36,
   "metadata": {},
   "outputs": [
    {
     "data": {
      "text/plain": [
       "-1"
      ]
     },
     "execution_count": 36,
     "metadata": {},
     "output_type": "execute_result"
    }
   ],
   "source": [
    "palavraIndexada('olásss')"
   ]
  },
  {
   "cell_type": "markdown",
   "metadata": {},
   "source": [
    "### Verifica se a página já foi indexada\n",
    "Retornos de `paginaIndexada()`:\n",
    "* -1 -> se a página não existe\n",
    "* -2 -> se página existe e já possui palavras indexadas\n",
    "* id -> se ela existe, mas está pendente de indexação"
   ]
  },
  {
   "cell_type": "code",
   "execution_count": 37,
   "metadata": {},
   "outputs": [],
   "source": [
    "def paginaIndexada(url):\n",
    "    tabela = 'urls'\n",
    "    campo = 'idurl'\n",
    "    condicao = \"url = '{}'\".format(url)\n",
    "    result = procura_registro(tabela, campo, condicao)\n",
    "    if not result:\n",
    "        return -1  # não existe a página\n",
    "    idurl = result[0]\n",
    "    tabela = 'palavra_localizacao'\n",
    "    campo = 'idurl'\n",
    "    condicao = \"idurl = '{}'\".format(idurl)\n",
    "    result = procura_registro(tabela, campo, condicao)\n",
    "    if result:\n",
    "        return -2  # existe a página com palavras cadastradas\n",
    "    return idurl  # existe a página sem palavras, então retorna o ID da página"
   ]
  },
  {
   "cell_type": "code",
   "execution_count": 38,
   "metadata": {},
   "outputs": [
    {
     "data": {
      "text/plain": [
       "-1"
      ]
     },
     "execution_count": 38,
     "metadata": {},
     "output_type": "execute_result"
    }
   ],
   "source": [
    "# pagina não existe\n",
    "paginaIndexada('teste')"
   ]
  },
  {
   "cell_type": "code",
   "execution_count": 39,
   "metadata": {},
   "outputs": [
    {
     "data": {
      "text/plain": [
       "3"
      ]
     },
     "execution_count": 39,
     "metadata": {},
     "output_type": "execute_result"
    }
   ],
   "source": [
    "# pagina existe mas não tem palavras indexadas\n",
    "paginaIndexada('maisumapagina.com')"
   ]
  },
  {
   "cell_type": "code",
   "execution_count": 40,
   "metadata": {},
   "outputs": [
    {
     "data": {
      "text/plain": [
       "-2"
      ]
     },
     "execution_count": 40,
     "metadata": {},
     "output_type": "execute_result"
    }
   ],
   "source": [
    "# pagina existe e tem palavras indexadas\n",
    "paginaIndexada('teste5.com')"
   ]
  },
  {
   "cell_type": "markdown",
   "metadata": {},
   "source": [
    "## Funções utilizadas pelo Indexador"
   ]
  },
  {
   "cell_type": "code",
   "execution_count": 43,
   "metadata": {},
   "outputs": [
    {
     "data": {
      "text/plain": [
       "['http',\n",
       " 'pt',\n",
       " 'wikiped',\n",
       " 'org',\n",
       " 'wik',\n",
       " 'lingu',\n",
       " 'program',\n",
       " 'c3',\n",
       " 'a7',\n",
       " 'c3',\n",
       " 'a3o']"
      ]
     },
     "execution_count": 43,
     "metadata": {},
     "output_type": "execute_result"
    }
   ],
   "source": [
    "# transforma o texto numa lista de palavras padronizadas\n",
    "def separaPalavras(texto):\n",
    "    stop = nltk.corpus.stopwords.words('portuguese')\n",
    "    stemmer = nltk.stem.RSLPStemmer()\n",
    "    splitter = re.compile('\\\\W+')\n",
    "    lista_palavras = []\n",
    "    lista = [p for p in splitter.split(texto) if p != '']\n",
    "    for p in lista:\n",
    "        if p.lower() in stop or len(p) <= 1:\n",
    "            continue\n",
    "        lista_palavras.append(stemmer.stem(p).lower())\n",
    "    return lista_palavras\n",
    "\n",
    "link = 'https://pt.wikipedia.org/wiki/Linguagem_de_programa%C3%A7%C3%A3o'\n",
    "link = link.replace('_', ' ')\n",
    "palavras = separaPalavras(link)\n",
    "palavras"
   ]
  },
  {
   "cell_type": "code",
   "execution_count": 44,
   "metadata": {},
   "outputs": [],
   "source": [
    "# Faz a ligação entre uma url de origem e as palavras existentes no texto\n",
    "# de uma url de destino indicada\n",
    "def urlLigaPalavra(url_origem, url_destino):\n",
    "    texto_url = url_destino.replace('_', ' ')\n",
    "    palavras = separaPalavras(texto_url)\n",
    "    idurl_origem = getIdUrl(url_origem)\n",
    "    idurl_destino = getIdUrl(url_destino)\n",
    "    if idurl_destino == -1:\n",
    "        idurl_destino = inserePagina(url_destino)\n",
    "    if idurl_origem == idurl_destino:\n",
    "        return\n",
    "    if getIdUrlLigacao(idurl_origem, idurl_destino) > 0:\n",
    "        return\n",
    "    idurl_ligacao = insertUrlLigacao(idurl_origem, idurl_destino)\n",
    "    for palavra in palavras:\n",
    "        idpalavra = palavraIndexada(palavra)\n",
    "        if idpalavra == -1:\n",
    "            idpalavra = inserePalavra(palavra)\n",
    "        insertUrlPalavra(idpalavra, idurl_ligacao)"
   ]
  },
  {
   "cell_type": "code",
   "execution_count": 45,
   "metadata": {},
   "outputs": [],
   "source": [
    "destino = 'pagina_de_destino.com'\n",
    "urlLigaPalavra('teste5.com', destino)"
   ]
  },
  {
   "cell_type": "code",
   "execution_count": 46,
   "metadata": {},
   "outputs": [],
   "source": [
    "idOrigem = getIdUrl('teste5.com')\n",
    "idDestino = getIdUrl('pagina_de_destino.com')\n",
    "idPalavra = palavraIndexada('destin')\n",
    "idUrlLig = getIdUrlLigacao(idOrigem, idDestino)\n",
    "registro_gravado = procura_registro('url_palavra', '*', \"idPalavra='{}'\".format(idPalavra))"
   ]
  },
  {
   "cell_type": "code",
   "execution_count": 47,
   "metadata": {},
   "outputs": [
    {
     "name": "stdout",
     "output_type": "stream",
     "text": [
      "2 4\n",
      "3\n",
      "5 3\n",
      "(3, 5, 3)\n"
     ]
    }
   ],
   "source": [
    "print(idOrigem, idDestino)\n",
    "print(idUrlLig)\n",
    "print(idPalavra, idUrlLig)\n",
    "print(registro_gravado)"
   ]
  },
  {
   "cell_type": "code",
   "execution_count": 48,
   "metadata": {},
   "outputs": [],
   "source": [
    "def getTexto(sopa):\n",
    "    for tags in sopa(['script', 'style']):\n",
    "        tags.decompose()\n",
    "    return ' '.join(sopa.stripped_strings)"
   ]
  },
  {
   "cell_type": "code",
   "execution_count": 49,
   "metadata": {},
   "outputs": [
    {
     "data": {
      "text/plain": [
       "'Apresentação | O Voo da Serpente Emplumada Navegação Apresentação Apresentação Livro Um Livro Dois Livro Três Baixe o Livro Glossário A Tradução O Voo da Serpente Emplumada Tradução do livro \"El Vuelo de la Serpiente Emplumada\" de Armando Cosani Nota: O desenvolvimento deste site, bem como a tradução do livro \"O Voo da Serpente Emplumada\" fazem parte de um projeto pessoal e sem fins lucrativos, cujo único objetivo é a difusão das belas e profundas mensagens transmitidas por este importante livro do Esoterismo Crístico de nossa época. Apresentação Envolta na trama de um relato que quase é um diálogo entre o narrador e um homem inexplicável — “todo ele era um sorriso” — que em palavras simples repete verdades eternas, vaga a presença de Judas, o homem de Kariot; na invocação à Santa Terra Bendita do Mayab, à Sagrada Princesa Sac-Nicté, a branca flor do Mayab e ao Grande Senhor Oculto, evoca-se o nome de Judas, o homem de Kariot. Porém, por que Judas? Não foi quem enlodou sua memória cometendo uma horrenda traição? Em um dos parágrafos deste livro se diz: “...dir-vos-ei o que vi com os olhos que só o sangue Maya faz, e o que ouvi com os ouvidos da carne Maya, acerca deste homem chamado Judas e nascido em Kariot,” e, em contradição com o que se crê que é a verdade do ocorrido em mui remotos tempos com Jesus de Nazareth, oferece-se uma interessante interpretação dos fatos e circunstâncias que levaram Judas a cometer o que parece uma terrível traição, mas que o autor considera um fio importante no urdimento do destino desta era, fio, sem o qual não se houvera cumprido as Escrituras, cuja verdade não está impressa nos livros, senão que se lê na alma, com a qual os dilúvios serão vistos da Arca, e a Serpente Emplumada voará. (Texto da contra-capa da 2ª Edição – 1978) Sobre a Tradução ← Acima → Livro Um Navegação Apresentação Livro Um Livro Dois Livro Três Baixe o Livro Glossário Sobre a Tradução Desenvolvido com Lektor Administrado por Francisco A C Lima [email\\xa0protected]'"
      ]
     },
     "execution_count": 49,
     "metadata": {},
     "output_type": "execute_result"
    }
   ],
   "source": [
    "urllib3.disable_warnings(urllib3.exceptions.InsecureRequestWarning)\n",
    "http = urllib3.PoolManager()\n",
    "link = 'https://ovoodaserpenteemplumada.com'\n",
    "pagina = http.request('GET', link)\n",
    "sopa = BeautifulSoup(pagina.data, \"lxml\")\n",
    "getTexto(sopa)"
   ]
  },
  {
   "cell_type": "code",
   "execution_count": 50,
   "metadata": {},
   "outputs": [],
   "source": [
    "def indexador(url, sopa):\n",
    "    indexada = paginaIndexada(url)\n",
    "    if indexada == -2:\n",
    "        print(\"url {} já indexada\".format(url))\n",
    "        return\n",
    "    elif indexada == -1:\n",
    "        idnova_pagina = inserePagina(url)\n",
    "    elif indexada > 0:\n",
    "        idnova_pagina = indexada\n",
    "    print(\"Aguarde! Indexando \" + url)\n",
    "    texto = getTexto(sopa)\n",
    "    palavras = separaPalavras(texto)\n",
    "    for i in range(len(palavras)):\n",
    "        palavra = palavras[i]\n",
    "        idpalavra = palavraIndexada(palavra)\n",
    "        if idpalavra == -1:\n",
    "            idpalavra = inserePalavra(palavra)\n",
    "        inserePalavraLocalizacao(idnova_pagina, idpalavra, i)\n",
    "    print('Ok! ' + url + \" indexada\")"
   ]
  },
  {
   "cell_type": "code",
   "execution_count": 51,
   "metadata": {},
   "outputs": [
    {
     "name": "stdout",
     "output_type": "stream",
     "text": [
      "Aguarde! Indexando https://ovoodaserpenteemplumada.com\n",
      "Ok! https://ovoodaserpenteemplumada.com indexada\n"
     ]
    }
   ],
   "source": [
    "indexador(link, sopa)"
   ]
  },
  {
   "cell_type": "code",
   "execution_count": 52,
   "metadata": {},
   "outputs": [],
   "source": [
    "def crawl(paginas, profundidade, dominio=''):\n",
    "    urllib3.disable_warnings(urllib3.exceptions.InsecureRequestWarning)\n",
    "    for i in range(profundidade):\n",
    "        novas_paginas = set()\n",
    "        for pagina in paginas:\n",
    "            http = urllib3.PoolManager()\n",
    "            try:\n",
    "                dados_pagina = http.request('GET', pagina)\n",
    "            except:\n",
    "                print('Erro ao abrir a página ' + pagina)\n",
    "                continue\n",
    "            sopa = BeautifulSoup(dados_pagina.data, \"lxml\")\n",
    "            indexador(pagina, sopa)\n",
    "            links = sopa.find_all('a')\n",
    "            contador = 1\n",
    "            for link in links:\n",
    "                #print(str(link.contents) + \" - \" + str(link.get('href')))\n",
    "                #print(link.attrs)\n",
    "                #print('\\n')\n",
    "                if not('href' in link.attrs):\n",
    "                    continue\n",
    "                url = urljoin(pagina, str(link.get('href')))\n",
    "                if dominio:\n",
    "                    if not(dominio in url):\n",
    "                        continue\n",
    "                if url.find(\"'\") != -1:\n",
    "                    continue\n",
    "                #print(url)\n",
    "                url = url.split('#')[0]\n",
    "                #print(url)\n",
    "                #print('\\n')\n",
    "                if url[0:4] == 'http':\n",
    "                    novas_paginas.add(url) \n",
    "                urlLigaPalavra(pagina, url)\n",
    "                contador = contador + 1\n",
    "            paginas = novas_paginas\n",
    "        print(contador)\n",
    "    print('Indexação Concluída')"
   ]
  },
  {
   "cell_type": "code",
   "execution_count": 53,
   "metadata": {},
   "outputs": [
    {
     "name": "stdout",
     "output_type": "stream",
     "text": [
      "url https://ovoodaserpenteemplumada.com já indexada\n",
      "20\n",
      "Aguarde! Indexando https://ovoodaserpenteemplumada.com/livro-um/\n",
      "Ok! https://ovoodaserpenteemplumada.com/livro-um/ indexada\n",
      "Aguarde! Indexando https://ovoodaserpenteemplumada.com/livro-tres/\n",
      "Ok! https://ovoodaserpenteemplumada.com/livro-tres/ indexada\n",
      "Aguarde! Indexando https://ovoodaserpenteemplumada.com/cdn-cgi/l/email-protection\n",
      "Ok! https://ovoodaserpenteemplumada.com/cdn-cgi/l/email-protection indexada\n",
      "Aguarde! Indexando https://ovoodaserpenteemplumada.com/glossario/\n",
      "Ok! https://ovoodaserpenteemplumada.com/glossario/ indexada\n",
      "Aguarde! Indexando https://ovoodaserpenteemplumada.com/sobre-a-traducao/\n",
      "Ok! https://ovoodaserpenteemplumada.com/sobre-a-traducao/ indexada\n",
      "Aguarde! Indexando https://ovoodaserpenteemplumada.com/livro-dois/\n",
      "Ok! https://ovoodaserpenteemplumada.com/livro-dois/ indexada\n",
      "Aguarde! Indexando https://ovoodaserpenteemplumada.com/livro-um\n",
      "Ok! https://ovoodaserpenteemplumada.com/livro-um indexada\n",
      "Aguarde! Indexando https://ovoodaserpenteemplumada.com/sobre-a-traducao\n",
      "Ok! https://ovoodaserpenteemplumada.com/sobre-a-traducao indexada\n",
      "Aguarde! Indexando https://ovoodaserpenteemplumada.com/\n",
      "Ok! https://ovoodaserpenteemplumada.com/ indexada\n",
      "Aguarde! Indexando https://ovoodaserpenteemplumada.com/baixe-o-livro/\n",
      "Ok! https://ovoodaserpenteemplumada.com/baixe-o-livro/ indexada\n",
      "19\n",
      "url https://ovoodaserpenteemplumada.com/livro-um/ já indexada\n",
      "Aguarde! Indexando https://ovoodaserpenteemplumada.com/livro-tres/livro-tres-capitulo-sete/\n",
      "Ok! https://ovoodaserpenteemplumada.com/livro-tres/livro-tres-capitulo-sete/ indexada\n",
      "Aguarde! Indexando https://ovoodaserpenteemplumada.com/livro-um/livro-um-capitulo-oito/\n",
      "Ok! https://ovoodaserpenteemplumada.com/livro-um/livro-um-capitulo-oito/ indexada\n",
      "url https://ovoodaserpenteemplumada.com/cdn-cgi/l/email-protection já indexada\n",
      "Aguarde! Indexando https://ovoodaserpenteemplumada.com/livro-dois/livro-dois-capitulo-seis\n",
      "Ok! https://ovoodaserpenteemplumada.com/livro-dois/livro-dois-capitulo-seis indexada\n",
      "Aguarde! Indexando https://ovoodaserpenteemplumada.com/livro-tres/livro-tres-capitulo-cinco/\n",
      "Ok! https://ovoodaserpenteemplumada.com/livro-tres/livro-tres-capitulo-cinco/ indexada\n",
      "Aguarde! Indexando https://ovoodaserpenteemplumada.com/livro-dois/livro-dois-capitulo-dois/\n",
      "Ok! https://ovoodaserpenteemplumada.com/livro-dois/livro-dois-capitulo-dois/ indexada\n",
      "Aguarde! Indexando https://ovoodaserpenteemplumada.com/livro-tres/livro-tres-capitulo-onze/\n",
      "Ok! https://ovoodaserpenteemplumada.com/livro-tres/livro-tres-capitulo-onze/ indexada\n",
      "url https://ovoodaserpenteemplumada.com/livro-um já indexada\n",
      "Aguarde! Indexando https://ovoodaserpenteemplumada.com/livro-um/livro-um-capitulo-nove/\n",
      "Ok! https://ovoodaserpenteemplumada.com/livro-um/livro-um-capitulo-nove/ indexada\n",
      "Aguarde! Indexando https://ovoodaserpenteemplumada.com/livro-dois/livro-dois-capitulo-um\n",
      "Ok! https://ovoodaserpenteemplumada.com/livro-dois/livro-dois-capitulo-um indexada\n",
      "url https://ovoodaserpenteemplumada.com/sobre-a-traducao já indexada\n",
      "Aguarde! Indexando https://ovoodaserpenteemplumada.com/livro-um/livro-um-capitulo-um\n",
      "Ok! https://ovoodaserpenteemplumada.com/livro-um/livro-um-capitulo-um indexada\n",
      "Aguarde! Indexando https://ovoodaserpenteemplumada.com/baixe-o-livro/pdf-para-impressao\n",
      "Ok! https://ovoodaserpenteemplumada.com/baixe-o-livro/pdf-para-impressao indexada\n",
      "Aguarde! Indexando https://ovoodaserpenteemplumada.com/livro-tres/livro-tres-capitulo-treze/\n",
      "Ok! https://ovoodaserpenteemplumada.com/livro-tres/livro-tres-capitulo-treze/ indexada\n",
      "Aguarde! Indexando https://ovoodaserpenteemplumada.com/glossario\n",
      "Ok! https://ovoodaserpenteemplumada.com/glossario indexada\n",
      "Aguarde! Indexando https://ovoodaserpenteemplumada.com/livro-tres/livro-tres-capitulo-um\n",
      "Ok! https://ovoodaserpenteemplumada.com/livro-tres/livro-tres-capitulo-um indexada\n",
      "Aguarde! Indexando https://ovoodaserpenteemplumada.com/livro-tres/livro-tres-capitulo-doze/\n",
      "Ok! https://ovoodaserpenteemplumada.com/livro-tres/livro-tres-capitulo-doze/ indexada\n",
      "Aguarde! Indexando https://ovoodaserpenteemplumada.com/livro-tres/livro-tres-capitulo-um/\n",
      "Ok! https://ovoodaserpenteemplumada.com/livro-tres/livro-tres-capitulo-um/ indexada\n",
      "Aguarde! Indexando https://ovoodaserpenteemplumada.com/livro-um/livro-um-capitulo-tres/\n",
      "Ok! https://ovoodaserpenteemplumada.com/livro-um/livro-um-capitulo-tres/ indexada\n",
      "Aguarde! Indexando https://ovoodaserpenteemplumada.com/baixe-o-livro/pdf-para-leitura\n",
      "Ok! https://ovoodaserpenteemplumada.com/baixe-o-livro/pdf-para-leitura indexada\n",
      "Aguarde! Indexando https://ovoodaserpenteemplumada.com/livro-dois/livro-dois-capitulo-tres/\n",
      "Ok! https://ovoodaserpenteemplumada.com/livro-dois/livro-dois-capitulo-tres/ indexada\n",
      "Aguarde! Indexando https://ovoodaserpenteemplumada.com/livro-tres/livro-tres-capitulo-dez/\n",
      "Ok! https://ovoodaserpenteemplumada.com/livro-tres/livro-tres-capitulo-dez/ indexada\n",
      "Aguarde! Indexando https://ovoodaserpenteemplumada.com/livro-um/livro-um-capitulo-dois/\n",
      "Ok! https://ovoodaserpenteemplumada.com/livro-um/livro-um-capitulo-dois/ indexada\n",
      "url https://ovoodaserpenteemplumada.com/livro-dois/ já indexada\n",
      "Aguarde! Indexando https://ovoodaserpenteemplumada.com/livro-dois/livro-dois-capitulo-seis/\n",
      "Ok! https://ovoodaserpenteemplumada.com/livro-dois/livro-dois-capitulo-seis/ indexada\n",
      "Aguarde! Indexando https://ovoodaserpenteemplumada.com/livro-tres/livro-tres-capitulo-nove/\n",
      "Ok! https://ovoodaserpenteemplumada.com/livro-tres/livro-tres-capitulo-nove/ indexada\n",
      "Aguarde! Indexando https://ovoodaserpenteemplumada.com/livro-tres/livro-tres-capitulo-dois/\n",
      "Ok! https://ovoodaserpenteemplumada.com/livro-tres/livro-tres-capitulo-dois/ indexada\n",
      "Aguarde! Indexando https://ovoodaserpenteemplumada.com/livro-tres/livro-tres-capitulo-treze\n",
      "Ok! https://ovoodaserpenteemplumada.com/livro-tres/livro-tres-capitulo-treze indexada\n",
      "url https://ovoodaserpenteemplumada.com/ já indexada\n",
      "url https://ovoodaserpenteemplumada.com/baixe-o-livro/ já indexada\n",
      "Aguarde! Indexando https://ovoodaserpenteemplumada.com/livro-um/livro-um-capitulo-quinze/\n",
      "Ok! https://ovoodaserpenteemplumada.com/livro-um/livro-um-capitulo-quinze/ indexada\n",
      "Aguarde! Indexando https://ovoodaserpenteemplumada.com/livro-tres/livro-tres-capitulo-tres/\n",
      "Ok! https://ovoodaserpenteemplumada.com/livro-tres/livro-tres-capitulo-tres/ indexada\n",
      "Aguarde! Indexando https://ovoodaserpenteemplumada.com/livro-dois/livro-dois-capitulo-quatro/\n",
      "Ok! https://ovoodaserpenteemplumada.com/livro-dois/livro-dois-capitulo-quatro/ indexada\n",
      "Aguarde! Indexando https://ovoodaserpenteemplumada.com/livro-tres/livro-tres-capitulo-seis/\n",
      "Ok! https://ovoodaserpenteemplumada.com/livro-tres/livro-tres-capitulo-seis/ indexada\n",
      "Aguarde! Indexando https://ovoodaserpenteemplumada.com/baixe-o-livro/pdf-para-impressao/\n",
      "Ok! https://ovoodaserpenteemplumada.com/baixe-o-livro/pdf-para-impressao/ indexada\n",
      "Aguarde! Indexando https://ovoodaserpenteemplumada.com/livro-um/livro-um-capitulo-quatro/\n",
      "Ok! https://ovoodaserpenteemplumada.com/livro-um/livro-um-capitulo-quatro/ indexada\n",
      "Aguarde! Indexando https://ovoodaserpenteemplumada.com/livro-um/livro-um-capitulo-quatorze/\n",
      "Ok! https://ovoodaserpenteemplumada.com/livro-um/livro-um-capitulo-quatorze/ indexada\n",
      "Aguarde! Indexando https://ovoodaserpenteemplumada.com/livro-dois/livro-dois-capitulo-um/\n",
      "Ok! https://ovoodaserpenteemplumada.com/livro-dois/livro-dois-capitulo-um/ indexada\n",
      "Aguarde! Indexando https://ovoodaserpenteemplumada.com/livro-tres/livro-tres-capitulo-quatro/\n",
      "Ok! https://ovoodaserpenteemplumada.com/livro-tres/livro-tres-capitulo-quatro/ indexada\n",
      "Aguarde! Indexando https://ovoodaserpenteemplumada.com/livro-um/livro-um-capitulo-sete/\n",
      "Ok! https://ovoodaserpenteemplumada.com/livro-um/livro-um-capitulo-sete/ indexada\n",
      "Aguarde! Indexando http://ovoodaserpenteemplumada.com\n",
      "Ok! http://ovoodaserpenteemplumada.com indexada\n",
      "Aguarde! Indexando https://ovoodaserpenteemplumada.com/baixe-o-livro/pdf-para-leitura/\n",
      "Ok! https://ovoodaserpenteemplumada.com/baixe-o-livro/pdf-para-leitura/ indexada\n",
      "Aguarde! Indexando https://ovoodaserpenteemplumada.com/livro-um/livro-um-capitulo-um/\n",
      "Ok! https://ovoodaserpenteemplumada.com/livro-um/livro-um-capitulo-um/ indexada\n",
      "Aguarde! Indexando https://ovoodaserpenteemplumada.com/livro-um/livro-um-capitulo-onze/\n"
     ]
    },
    {
     "name": "stdout",
     "output_type": "stream",
     "text": [
      "Ok! https://ovoodaserpenteemplumada.com/livro-um/livro-um-capitulo-onze/ indexada\n",
      "url https://ovoodaserpenteemplumada.com/livro-tres/ já indexada\n",
      "Aguarde! Indexando https://ovoodaserpenteemplumada.com/livro-dois/livro-dois-capitulo-cinco/\n",
      "Ok! https://ovoodaserpenteemplumada.com/livro-dois/livro-dois-capitulo-cinco/ indexada\n",
      "Aguarde! Indexando https://ovoodaserpenteemplumada.com/livro-um/livro-um-capitulo-quinze\n",
      "Ok! https://ovoodaserpenteemplumada.com/livro-um/livro-um-capitulo-quinze indexada\n",
      "Aguarde! Indexando https://ovoodaserpenteemplumada.com/livro-tres/livro-tres-capitulo-oito/\n",
      "Ok! https://ovoodaserpenteemplumada.com/livro-tres/livro-tres-capitulo-oito/ indexada\n",
      "url https://ovoodaserpenteemplumada.com/glossario/ já indexada\n",
      "Aguarde! Indexando https://ovoodaserpenteemplumada.com/livro-um/livro-um-capitulo-seis/\n",
      "Ok! https://ovoodaserpenteemplumada.com/livro-um/livro-um-capitulo-seis/ indexada\n",
      "Aguarde! Indexando https://ovoodaserpenteemplumada.com/livro-um/livro-um-capitulo-cinco/\n",
      "Ok! https://ovoodaserpenteemplumada.com/livro-um/livro-um-capitulo-cinco/ indexada\n",
      "url https://ovoodaserpenteemplumada.com/sobre-a-traducao/ já indexada\n",
      "Aguarde! Indexando https://ovoodaserpenteemplumada.com/livro-um/livro-um-capitulo-treze/\n",
      "Ok! https://ovoodaserpenteemplumada.com/livro-um/livro-um-capitulo-treze/ indexada\n",
      "Aguarde! Indexando https://ovoodaserpenteemplumada.com/livro-um/livro-um-capitulo-dez/\n",
      "Ok! https://ovoodaserpenteemplumada.com/livro-um/livro-um-capitulo-dez/ indexada\n",
      "Aguarde! Indexando https://ovoodaserpenteemplumada.com/livro-um/livro-um-capitulo-doze/\n",
      "Ok! https://ovoodaserpenteemplumada.com/livro-um/livro-um-capitulo-doze/ indexada\n",
      "56\n",
      "Indexação Concluída\n"
     ]
    }
   ],
   "source": [
    "lista_paginas = ['https://ovoodaserpenteemplumada.com']\n",
    "# para a indexação ficar dentro do domínio, numa aplicação onde não será aplicado o PageRank\n",
    "# acrescentei um parâmetro que limita a indexação\n",
    "crawl(lista_paginas, 3, 'ovoodaserpenteemplumada.com')"
   ]
  },
  {
   "cell_type": "code",
   "execution_count": null,
   "metadata": {},
   "outputs": [],
   "source": []
  }
 ],
 "metadata": {
  "kernelspec": {
   "display_name": "Python 3",
   "language": "python",
   "name": "python3"
  },
  "language_info": {
   "codemirror_mode": {
    "name": "ipython",
    "version": 3
   },
   "file_extension": ".py",
   "mimetype": "text/x-python",
   "name": "python",
   "nbconvert_exporter": "python",
   "pygments_lexer": "ipython3",
   "version": "3.5.2"
  }
 },
 "nbformat": 4,
 "nbformat_minor": 2
}
